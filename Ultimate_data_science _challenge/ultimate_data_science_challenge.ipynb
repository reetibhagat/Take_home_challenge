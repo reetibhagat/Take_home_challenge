{
 "cells": [
  {
   "cell_type": "markdown",
   "metadata": {},
   "source": [
    "## The Ultimate Inc. Data Science Challenge"
   ]
  },
  {
   "cell_type": "markdown",
   "metadata": {},
   "source": [
    "### Part 1.Exploratory Data Analysis"
   ]
  },
  {
   "cell_type": "markdown",
   "metadata": {},
   "source": [
    "### Objectives"
   ]
  },
  {
   "cell_type": "markdown",
   "metadata": {},
   "source": [
    "The attached logins.json file contains (simulated) timestamps of user logins in a particular\n",
    "geographic location."
   ]
  },
  {
   "cell_type": "markdown",
   "metadata": {},
   "source": [
    "1.Aggregate these login counts based on 15 minute time intervals.<br>\n",
    "2.Visualize and describe the resulting time series of login counts in ways that best characterize the underlying patterns of the demand.<br>\n",
    "3.Report/illustrate important features of the demand,such as daily cycles.<br>"
   ]
  },
  {
   "cell_type": "code",
   "execution_count": 1,
   "metadata": {},
   "outputs": [],
   "source": [
    "# importing necessary modules\n",
    "import pandas as pd\n",
    "import numpy as np\n",
    "import json\n",
    "import matplotlib.pyplot as plt\n",
    "plt.style.use('tableau-colorblind10')\n",
    "import seaborn as sns\n",
    "\n",
    "from datetime import datetime\n",
    "import pickle\n",
    "from pandas.io.json import json_normalize\n",
    "import warnings\n",
    "warnings.filterwarnings('ignore')\n",
    "\n",
    "from sklearn.metrics import accuracy_score, mean_squared_error\n",
    "from sklearn.model_selection import train_test_split\n",
    "from xgboost import XGBClassifier, cv, plot_importance\n",
    "\n",
    "from sklearn.model_selection import RandomizedSearchCV, GridSearchCV\n"
   ]
  },
  {
   "cell_type": "code",
   "execution_count": 36,
   "metadata": {},
   "outputs": [
    {
     "name": "stdout",
     "output_type": "stream",
     "text": [
      "Collecting xgboost\n",
      "  Downloading xgboost-1.2.1-py3-none-macosx_10_13_x86_64.macosx_10_14_x86_64.macosx_10_15_x86_64.whl (1.2 MB)\n",
      "\u001b[K     |████████████████████████████████| 1.2 MB 608 kB/s eta 0:00:01\n",
      "\u001b[?25hRequirement already satisfied: numpy in /Users/ajesh_mahto/opt/anaconda3/lib/python3.7/site-packages (from xgboost) (1.18.5)\n",
      "Requirement already satisfied: scipy in /Users/ajesh_mahto/opt/anaconda3/lib/python3.7/site-packages (from xgboost) (1.4.1)\n",
      "Installing collected packages: xgboost\n",
      "Successfully installed xgboost-1.2.1\n",
      "Note: you may need to restart the kernel to use updated packages.\n"
     ]
    }
   ],
   "source": [
    "#pip install xgboost"
   ]
  },
  {
   "cell_type": "code",
   "execution_count": 2,
   "metadata": {
    "scrolled": true
   },
   "outputs": [
    {
     "data": {
      "text/html": [
       "<div>\n",
       "<style scoped>\n",
       "    .dataframe tbody tr th:only-of-type {\n",
       "        vertical-align: middle;\n",
       "    }\n",
       "\n",
       "    .dataframe tbody tr th {\n",
       "        vertical-align: top;\n",
       "    }\n",
       "\n",
       "    .dataframe thead th {\n",
       "        text-align: right;\n",
       "    }\n",
       "</style>\n",
       "<table border=\"1\" class=\"dataframe\">\n",
       "  <thead>\n",
       "    <tr style=\"text-align: right;\">\n",
       "      <th></th>\n",
       "      <th>login_time</th>\n",
       "    </tr>\n",
       "  </thead>\n",
       "  <tbody>\n",
       "    <tr>\n",
       "      <th>0</th>\n",
       "      <td>1970-01-01 20:13:18</td>\n",
       "    </tr>\n",
       "    <tr>\n",
       "      <th>1</th>\n",
       "      <td>1970-01-01 20:16:10</td>\n",
       "    </tr>\n",
       "    <tr>\n",
       "      <th>2</th>\n",
       "      <td>1970-01-01 20:16:37</td>\n",
       "    </tr>\n",
       "    <tr>\n",
       "      <th>3</th>\n",
       "      <td>1970-01-01 20:16:36</td>\n",
       "    </tr>\n",
       "    <tr>\n",
       "      <th>4</th>\n",
       "      <td>1970-01-01 20:26:21</td>\n",
       "    </tr>\n",
       "  </tbody>\n",
       "</table>\n",
       "</div>"
      ],
      "text/plain": [
       "           login_time\n",
       "0 1970-01-01 20:13:18\n",
       "1 1970-01-01 20:16:10\n",
       "2 1970-01-01 20:16:37\n",
       "3 1970-01-01 20:16:36\n",
       "4 1970-01-01 20:26:21"
      ]
     },
     "execution_count": 2,
     "metadata": {},
     "output_type": "execute_result"
    }
   ],
   "source": [
    "# load json file as string\n",
    "json_str=json.load(open('logins.json'))\n",
    "\n",
    "#load json file as  pandas dataframe\n",
    "logins=pd.read_json('logins.json')\n",
    "logins.head()"
   ]
  },
  {
   "cell_type": "code",
   "execution_count": 3,
   "metadata": {
    "scrolled": true
   },
   "outputs": [
    {
     "name": "stdout",
     "output_type": "stream",
     "text": [
      "<class 'pandas.core.frame.DataFrame'>\n",
      "RangeIndex: 93142 entries, 0 to 93141\n",
      "Data columns (total 1 columns):\n",
      " #   Column      Non-Null Count  Dtype         \n",
      "---  ------      --------------  -----         \n",
      " 0   login_time  93142 non-null  datetime64[ns]\n",
      "dtypes: datetime64[ns](1)\n",
      "memory usage: 727.8 KB\n"
     ]
    }
   ],
   "source": [
    "logins.info()"
   ]
  },
  {
   "cell_type": "code",
   "execution_count": 4,
   "metadata": {},
   "outputs": [
    {
     "data": {
      "text/html": [
       "<div>\n",
       "<style scoped>\n",
       "    .dataframe tbody tr th:only-of-type {\n",
       "        vertical-align: middle;\n",
       "    }\n",
       "\n",
       "    .dataframe tbody tr th {\n",
       "        vertical-align: top;\n",
       "    }\n",
       "\n",
       "    .dataframe thead th {\n",
       "        text-align: right;\n",
       "    }\n",
       "</style>\n",
       "<table border=\"1\" class=\"dataframe\">\n",
       "  <thead>\n",
       "    <tr style=\"text-align: right;\">\n",
       "      <th></th>\n",
       "      <th>login_time</th>\n",
       "    </tr>\n",
       "  </thead>\n",
       "  <tbody>\n",
       "    <tr>\n",
       "      <th>count</th>\n",
       "      <td>93142</td>\n",
       "    </tr>\n",
       "    <tr>\n",
       "      <th>unique</th>\n",
       "      <td>92265</td>\n",
       "    </tr>\n",
       "    <tr>\n",
       "      <th>top</th>\n",
       "      <td>1970-02-12 11:16:53</td>\n",
       "    </tr>\n",
       "    <tr>\n",
       "      <th>freq</th>\n",
       "      <td>3</td>\n",
       "    </tr>\n",
       "    <tr>\n",
       "      <th>first</th>\n",
       "      <td>1970-01-01 20:12:16</td>\n",
       "    </tr>\n",
       "    <tr>\n",
       "      <th>last</th>\n",
       "      <td>1970-04-13 18:57:38</td>\n",
       "    </tr>\n",
       "  </tbody>\n",
       "</table>\n",
       "</div>"
      ],
      "text/plain": [
       "                 login_time\n",
       "count                 93142\n",
       "unique                92265\n",
       "top     1970-02-12 11:16:53\n",
       "freq                      3\n",
       "first   1970-01-01 20:12:16\n",
       "last    1970-04-13 18:57:38"
      ]
     },
     "execution_count": 4,
     "metadata": {},
     "output_type": "execute_result"
    }
   ],
   "source": [
    "logins.describe()"
   ]
  },
  {
   "cell_type": "code",
   "execution_count": 5,
   "metadata": {},
   "outputs": [
    {
     "data": {
      "text/html": [
       "<div>\n",
       "<style scoped>\n",
       "    .dataframe tbody tr th:only-of-type {\n",
       "        vertical-align: middle;\n",
       "    }\n",
       "\n",
       "    .dataframe tbody tr th {\n",
       "        vertical-align: top;\n",
       "    }\n",
       "\n",
       "    .dataframe thead th {\n",
       "        text-align: right;\n",
       "    }\n",
       "</style>\n",
       "<table border=\"1\" class=\"dataframe\">\n",
       "  <thead>\n",
       "    <tr style=\"text-align: right;\">\n",
       "      <th></th>\n",
       "      <th>freq</th>\n",
       "    </tr>\n",
       "    <tr>\n",
       "      <th>login_time</th>\n",
       "      <th></th>\n",
       "    </tr>\n",
       "  </thead>\n",
       "  <tbody>\n",
       "    <tr>\n",
       "      <th>1970-01-01 20:13:18</th>\n",
       "      <td>1</td>\n",
       "    </tr>\n",
       "    <tr>\n",
       "      <th>1970-01-01 20:16:10</th>\n",
       "      <td>1</td>\n",
       "    </tr>\n",
       "    <tr>\n",
       "      <th>1970-01-01 20:16:37</th>\n",
       "      <td>1</td>\n",
       "    </tr>\n",
       "    <tr>\n",
       "      <th>1970-01-01 20:16:36</th>\n",
       "      <td>1</td>\n",
       "    </tr>\n",
       "    <tr>\n",
       "      <th>1970-01-01 20:26:21</th>\n",
       "      <td>1</td>\n",
       "    </tr>\n",
       "  </tbody>\n",
       "</table>\n",
       "</div>"
      ],
      "text/plain": [
       "                     freq\n",
       "login_time               \n",
       "1970-01-01 20:13:18     1\n",
       "1970-01-01 20:16:10     1\n",
       "1970-01-01 20:16:37     1\n",
       "1970-01-01 20:16:36     1\n",
       "1970-01-01 20:26:21     1"
      ]
     },
     "execution_count": 5,
     "metadata": {},
     "output_type": "execute_result"
    }
   ],
   "source": [
    "#adding a columns that shows number of frequency\n",
    "logins['freq']=1\n",
    "#convert  date to datetime object, and set it as the index\n",
    "logins_data=logins.set_index(pd.to_datetime(logins['login_time'],unit='s'))[['freq']]\n",
    "logins_data.head()"
   ]
  },
  {
   "cell_type": "markdown",
   "metadata": {},
   "source": [
    "## Process time_series data into 15 chunks\n"
   ]
  },
  {
   "cell_type": "code",
   "execution_count": 6,
   "metadata": {},
   "outputs": [
    {
     "data": {
      "text/html": [
       "<div>\n",
       "<style scoped>\n",
       "    .dataframe tbody tr th:only-of-type {\n",
       "        vertical-align: middle;\n",
       "    }\n",
       "\n",
       "    .dataframe tbody tr th {\n",
       "        vertical-align: top;\n",
       "    }\n",
       "\n",
       "    .dataframe thead th {\n",
       "        text-align: right;\n",
       "    }\n",
       "</style>\n",
       "<table border=\"1\" class=\"dataframe\">\n",
       "  <thead>\n",
       "    <tr style=\"text-align: right;\">\n",
       "      <th></th>\n",
       "      <th>freq</th>\n",
       "    </tr>\n",
       "    <tr>\n",
       "      <th>login_time</th>\n",
       "      <th></th>\n",
       "    </tr>\n",
       "  </thead>\n",
       "  <tbody>\n",
       "    <tr>\n",
       "      <th>1970-01-01 20:00:00</th>\n",
       "      <td>2</td>\n",
       "    </tr>\n",
       "    <tr>\n",
       "      <th>1970-01-01 20:15:00</th>\n",
       "      <td>6</td>\n",
       "    </tr>\n",
       "    <tr>\n",
       "      <th>1970-01-01 20:30:00</th>\n",
       "      <td>9</td>\n",
       "    </tr>\n",
       "    <tr>\n",
       "      <th>1970-01-01 20:45:00</th>\n",
       "      <td>7</td>\n",
       "    </tr>\n",
       "    <tr>\n",
       "      <th>1970-01-01 21:00:00</th>\n",
       "      <td>1</td>\n",
       "    </tr>\n",
       "  </tbody>\n",
       "</table>\n",
       "</div>"
      ],
      "text/plain": [
       "                     freq\n",
       "login_time               \n",
       "1970-01-01 20:00:00     2\n",
       "1970-01-01 20:15:00     6\n",
       "1970-01-01 20:30:00     9\n",
       "1970-01-01 20:45:00     7\n",
       "1970-01-01 21:00:00     1"
      ]
     },
     "execution_count": 6,
     "metadata": {},
     "output_type": "execute_result"
    }
   ],
   "source": [
    "# resample the index,so that times is represented in 15 min chunks\n",
    "login_data15=logins_data.resample('15Min').sum()\n",
    "login_data15.head()"
   ]
  },
  {
   "cell_type": "markdown",
   "metadata": {},
   "source": [
    "## Visualize processed data\n"
   ]
  },
  {
   "cell_type": "code",
   "execution_count": 7,
   "metadata": {},
   "outputs": [
    {
     "data": {
      "image/png": "[encoded data removed]",
      "text/plain": [
       "<Figure size 1080x360 with 1 Axes>"
      ]
     },
     "metadata": {
      "needs_background": "light"
     },
     "output_type": "display_data"
    }
   ],
   "source": [
    "# scatterplot of the binned data\n",
    "fig,ax=plt.subplots(figsize=(15,5))\n",
    "plt.plot(login_data15.index,login_data15.freq)\n",
    "plt.xlabel('Time')\n",
    "plt.ylabel('Number of logins')\n",
    "plt.title('logins')\n",
    "plt.tight_layout()"
   ]
  },
  {
   "cell_type": "markdown",
   "metadata": {},
   "source": [
    "It does look like there is an underlying pattern in the data, but it is hard to see at this scale. Steps need to be taken to better understand the data."
   ]
  },
  {
   "cell_type": "markdown",
   "metadata": {},
   "source": [
    "## Better Understanding of time series data\n"
   ]
  },
  {
   "cell_type": "markdown",
   "metadata": {},
   "source": [
    " 1.We can see a entire time series as larger chunks.<br>\n",
    " 2.Find out the busiet time of the day.<br>\n",
    " 3.Find out the specific days sperately.<br>"
   ]
  },
  {
   "cell_type": "code",
   "execution_count": 8,
   "metadata": {},
   "outputs": [
    {
     "data": {
      "image/png": "[encoded data removed]",
      "text/plain": [
       "<Figure size 1080x576 with 1 Axes>"
      ]
     },
     "metadata": {
      "needs_background": "light"
     },
     "output_type": "display_data"
    }
   ],
   "source": [
    "# bin the data  by the day\n",
    "\n",
    "logins_daily = logins_data.resample('D').sum()\n",
    "logins_biz_day=logins_data.resample('B').sum()\n",
    "fridays= logins_data.resample('W-FRI').sum()\n",
    "saturdays=logins_data.resample('W-SAT').sum()\n",
    "sundays= logins_data.resample('W-SUN').sum()\n",
    "\n",
    "# # lime, scatterplot ,and histograms of the binned data\n",
    "\n",
    "fig,ax =plt.subplots(figsize= (15,8))\n",
    "plt.xlabel ('Time' ,fontsize = 22)\n",
    "plt.ylabel ('Number of Logins', fontsize =22)\n",
    "plt.title ('Logins over time',fontsize =22)\n",
    "\n",
    "plt.bar(fridays.index,fridays.freq, align='center',width= 0.1,label ='Fridays',color ='Black')\n",
    "plt.bar(saturdays.index,saturdays.freq,align='center',width=0.1,label ='saturdays',color ='r')\n",
    "plt.bar(sundays.index,sundays.freq,align='center',width=0.1,label = 'sundays',color ='g')\n",
    "plt.plot(logins_daily.index,logins_daily.freq,label='Daily Frequencies')\n",
    "plt.scatter(logins_biz_day.index,logins_biz_day.freq,label='weekdays')\n",
    "\n",
    "plt.legend(loc= 'upper right',fontsize =16)\n",
    "plt.tight_layout()\n"
   ]
  },
  {
   "cell_type": "markdown",
   "metadata": {},
   "source": [
    " The above graph shows saturday has most logins and weekends are most busier than weekends."
   ]
  },
  {
   "cell_type": "code",
   "execution_count": 9,
   "metadata": {},
   "outputs": [],
   "source": [
    "# Finding hourly trend by day of week"
   ]
  },
  {
   "cell_type": "code",
   "execution_count": 10,
   "metadata": {},
   "outputs": [],
   "source": [
    "#find hourly logins\n",
    "daily_logins= logins_data.resample('H').sum()\n",
    "#make column which makes day of week : mon =0 sunday =6\n",
    "day_of_week = list(daily_logins.index.dayofweek)\n",
    "daily_logins['day_of_week']= day_of_week\n",
    "#add column with hour\n",
    "daily_logins['hour']= [time.hour for time in daily_logins.index]"
   ]
  },
  {
   "cell_type": "code",
   "execution_count": 11,
   "metadata": {},
   "outputs": [
    {
     "data": {
      "text/html": [
       "<div>\n",
       "<style scoped>\n",
       "    .dataframe tbody tr th:only-of-type {\n",
       "        vertical-align: middle;\n",
       "    }\n",
       "\n",
       "    .dataframe tbody tr th {\n",
       "        vertical-align: top;\n",
       "    }\n",
       "\n",
       "    .dataframe thead th {\n",
       "        text-align: right;\n",
       "    }\n",
       "</style>\n",
       "<table border=\"1\" class=\"dataframe\">\n",
       "  <thead>\n",
       "    <tr style=\"text-align: right;\">\n",
       "      <th></th>\n",
       "      <th>freq</th>\n",
       "      <th>day_of_week</th>\n",
       "      <th>hour</th>\n",
       "    </tr>\n",
       "    <tr>\n",
       "      <th>login_time</th>\n",
       "      <th></th>\n",
       "      <th></th>\n",
       "      <th></th>\n",
       "    </tr>\n",
       "  </thead>\n",
       "  <tbody>\n",
       "    <tr>\n",
       "      <th>1970-01-01 20:00:00</th>\n",
       "      <td>24</td>\n",
       "      <td>3</td>\n",
       "      <td>20</td>\n",
       "    </tr>\n",
       "    <tr>\n",
       "      <th>1970-01-01 21:00:00</th>\n",
       "      <td>9</td>\n",
       "      <td>3</td>\n",
       "      <td>21</td>\n",
       "    </tr>\n",
       "    <tr>\n",
       "      <th>1970-01-01 22:00:00</th>\n",
       "      <td>21</td>\n",
       "      <td>3</td>\n",
       "      <td>22</td>\n",
       "    </tr>\n",
       "    <tr>\n",
       "      <th>1970-01-01 23:00:00</th>\n",
       "      <td>58</td>\n",
       "      <td>3</td>\n",
       "      <td>23</td>\n",
       "    </tr>\n",
       "    <tr>\n",
       "      <th>1970-01-02 00:00:00</th>\n",
       "      <td>53</td>\n",
       "      <td>4</td>\n",
       "      <td>0</td>\n",
       "    </tr>\n",
       "    <tr>\n",
       "      <th>...</th>\n",
       "      <td>...</td>\n",
       "      <td>...</td>\n",
       "      <td>...</td>\n",
       "    </tr>\n",
       "    <tr>\n",
       "      <th>1970-04-13 14:00:00</th>\n",
       "      <td>32</td>\n",
       "      <td>0</td>\n",
       "      <td>14</td>\n",
       "    </tr>\n",
       "    <tr>\n",
       "      <th>1970-04-13 15:00:00</th>\n",
       "      <td>19</td>\n",
       "      <td>0</td>\n",
       "      <td>15</td>\n",
       "    </tr>\n",
       "    <tr>\n",
       "      <th>1970-04-13 16:00:00</th>\n",
       "      <td>22</td>\n",
       "      <td>0</td>\n",
       "      <td>16</td>\n",
       "    </tr>\n",
       "    <tr>\n",
       "      <th>1970-04-13 17:00:00</th>\n",
       "      <td>22</td>\n",
       "      <td>0</td>\n",
       "      <td>17</td>\n",
       "    </tr>\n",
       "    <tr>\n",
       "      <th>1970-04-13 18:00:00</th>\n",
       "      <td>20</td>\n",
       "      <td>0</td>\n",
       "      <td>18</td>\n",
       "    </tr>\n",
       "  </tbody>\n",
       "</table>\n",
       "<p>2447 rows × 3 columns</p>\n",
       "</div>"
      ],
      "text/plain": [
       "                     freq  day_of_week  hour\n",
       "login_time                                  \n",
       "1970-01-01 20:00:00    24            3    20\n",
       "1970-01-01 21:00:00     9            3    21\n",
       "1970-01-01 22:00:00    21            3    22\n",
       "1970-01-01 23:00:00    58            3    23\n",
       "1970-01-02 00:00:00    53            4     0\n",
       "...                   ...          ...   ...\n",
       "1970-04-13 14:00:00    32            0    14\n",
       "1970-04-13 15:00:00    19            0    15\n",
       "1970-04-13 16:00:00    22            0    16\n",
       "1970-04-13 17:00:00    22            0    17\n",
       "1970-04-13 18:00:00    20            0    18\n",
       "\n",
       "[2447 rows x 3 columns]"
      ]
     },
     "execution_count": 11,
     "metadata": {},
     "output_type": "execute_result"
    }
   ],
   "source": [
    "daily_logins"
   ]
  },
  {
   "cell_type": "code",
   "execution_count": 12,
   "metadata": {},
   "outputs": [],
   "source": [
    "# create dataframe of the average number of logins for each hour of each day\n",
    "avg_hourly_logins = pd.pivot_table(daily_logins, values = 'freq', index = 'hour', columns = 'day_of_week', \n",
    "                                   aggfunc=np.mean).rename(columns= {0:'Monday',1:'Tuesday',2:'Wednesday',3:'Thursday',4:'Friday',5:'Saturday',6:'Sunday'})\n",
    "# stack\n",
    "avg_hourly_logins = avg_hourly_logins.stack(level=['day_of_week'])\n",
    "# name the stack\n",
    "avg_hourly_logins.name = 'avg_num_logins'\n",
    "avg_hourly_logins_df = avg_hourly_logins.reset_index()\n"
   ]
  },
  {
   "cell_type": "code",
   "execution_count": 13,
   "metadata": {},
   "outputs": [
    {
     "data": {
      "text/html": [
       "<div>\n",
       "<style scoped>\n",
       "    .dataframe tbody tr th:only-of-type {\n",
       "        vertical-align: middle;\n",
       "    }\n",
       "\n",
       "    .dataframe tbody tr th {\n",
       "        vertical-align: top;\n",
       "    }\n",
       "\n",
       "    .dataframe thead th {\n",
       "        text-align: right;\n",
       "    }\n",
       "</style>\n",
       "<table border=\"1\" class=\"dataframe\">\n",
       "  <thead>\n",
       "    <tr style=\"text-align: right;\">\n",
       "      <th></th>\n",
       "      <th>hour</th>\n",
       "      <th>day_of_week</th>\n",
       "      <th>avg_num_logins</th>\n",
       "    </tr>\n",
       "  </thead>\n",
       "  <tbody>\n",
       "    <tr>\n",
       "      <th>0</th>\n",
       "      <td>0</td>\n",
       "      <td>Monday</td>\n",
       "      <td>35.400000</td>\n",
       "    </tr>\n",
       "    <tr>\n",
       "      <th>1</th>\n",
       "      <td>0</td>\n",
       "      <td>Tuesday</td>\n",
       "      <td>43.357143</td>\n",
       "    </tr>\n",
       "    <tr>\n",
       "      <th>2</th>\n",
       "      <td>0</td>\n",
       "      <td>Wednesday</td>\n",
       "      <td>49.071429</td>\n",
       "    </tr>\n",
       "    <tr>\n",
       "      <th>3</th>\n",
       "      <td>0</td>\n",
       "      <td>Thursday</td>\n",
       "      <td>58.285714</td>\n",
       "    </tr>\n",
       "    <tr>\n",
       "      <th>4</th>\n",
       "      <td>0</td>\n",
       "      <td>Friday</td>\n",
       "      <td>65.000000</td>\n",
       "    </tr>\n",
       "  </tbody>\n",
       "</table>\n",
       "</div>"
      ],
      "text/plain": [
       "   hour day_of_week  avg_num_logins\n",
       "0     0      Monday       35.400000\n",
       "1     0     Tuesday       43.357143\n",
       "2     0   Wednesday       49.071429\n",
       "3     0    Thursday       58.285714\n",
       "4     0      Friday       65.000000"
      ]
     },
     "execution_count": 13,
     "metadata": {},
     "output_type": "execute_result"
    }
   ],
   "source": [
    "avg_hourly_logins_df.head()"
   ]
  },
  {
   "cell_type": "code",
   "execution_count": 14,
   "metadata": {},
   "outputs": [
    {
     "data": {
      "text/plain": [
       "<matplotlib.legend.Legend at 0x12b43af10>"
      ]
     },
     "execution_count": 14,
     "metadata": {},
     "output_type": "execute_result"
    },
    {
     "data": {
      "image/png": "[encoded data removed]",
      "text/plain": [
       "<Figure size 1347.84x576 with 1 Axes>"
      ]
     },
     "metadata": {
      "needs_background": "light"
     },
     "output_type": "display_data"
    }
   ],
   "source": [
    "# plot average hourly use\n",
    "sns.catplot(x='hour', y='avg_num_logins', data=avg_hourly_logins_df, kind = 'bar', \n",
    "            hue='day_of_week',height=8, aspect=11.7/5, legend=False)\n",
    "ax = plt.gca()\n",
    "ax.set_title('Average Logins per Hour', fontsize = 26)\n",
    "ax.set_xlabel('Hour (24-hour clock)', fontsize = 26)\n",
    "ax.set_ylabel('Average Number of Logins', fontsize = 26)\n",
    "ax.tick_params(labelsize=20,labelcolor=\"black\")\n",
    "ax.legend(bbox_to_anchor=(0.7,0.7,0.1, 0.2),fontsize=20)"
   ]
  },
  {
   "cell_type": "markdown",
   "metadata": {},
   "source": [
    "The bar graph shows the heaviest usage occurs during the early hours (1 AM - 5 AM) on Saturday and Sunday. During the weekdays there are smaller spikes in usage during lunch hours (11 am to noon), and in the evening (9 PM - 11 PM)."
   ]
  },
  {
   "cell_type": "markdown",
   "metadata": {},
   "source": [
    "## Part 2 ‑ Experiment and metrics design\n",
    "\n",
    "The neighboring cities of Gotham and Metropolis have complementary circadian rhythms: on weekdays, Ultimate Gotham is most active at night, and Ultimate Metropolis is most active during the day. On weekends, there is reasonable activity in both cities.\n",
    "\n",
    "However, a toll bridge, with a two­way toll, between the two cities causes driver partners to tend to be exclusive to each city. The Ultimate managers of city operations for the two cities have proposed an experiment to encourage driver partners to be available in both cities, by reimbursing all toll costs.\n",
    "\n",
    "What would you choose as the key measure of success of this experiment in encouraging driver partners to serve both cities, and why would you choose this metric?<br>\n",
    "Describe a practical experiment you would design to compare the effectiveness of the proposed change in relation to the key measure of success. Please provide details on:<br>\n",
    "1.how you will implement the experiment<br>\n",
    "2.what statistical test(s) you will conduct to verify the significance of the observation<br>\n",
    "3.how you would interpret the results and provide recommendations to the city operations team along with any caveats.<br>"
   ]
  },
  {
   "cell_type": "markdown",
   "metadata": {},
   "source": [
    "To clarify the problem I am making the following assumptions:\n",
    "\n",
    "There is an electronic record of the number of cars that use the bridge. \n",
    "\n",
    "1.This is a reasonable assumption, as to reimburse the partner drivers, the drivers would need a record of crossing.\n",
    "\n",
    "\n",
    "2.There is historical data on bridge use\n",
    "\n",
    "The key metric I would use is change in weekday activity. \n",
    "\n",
    "Specifically, during the daytime hours on weekdays, is there an increase of cars entering the bridge from Gotham AND during the night is there an increase of cars entering the bridge from Metropolis. I choose this metric because it required only two assumptions, is easily measured, and doesn't require waiting for reimbursement data to accumulate (as I don't know how long the reimbursement process takes).\n",
    "\n",
    "In order to answer the above questions I would use two hypothesis tests.\n",
    "\n",
    "\n",
    "H0: There is no difference between the mean number of cars entering the bridge from Gotham during weekdays between 6 am and 6 pm, two weeks before reimbursements were offered and the mean number of cars two weeks after reimbursements were offered.\n",
    "\n",
    "H2: There is an INCREASE in the mean number of cars entering the bridge from Gotham during weekdays between 6 am and 6 pm, two weeks before reimbursements were offered and the mean number of cars two weeks after reimbursements were offered.\n",
    "\n",
    "H0: There is no difference between the mean number of cars entering the bridge from Metropolis during weekdays between 7 pm and 4 am, two weeks before reimbursements were offered and the mean number of cars two weeks after reimbursements were offered.\n",
    "\n",
    "H2: There is an INCREASE in the mean number of cars entering the bridge from Metropolis during weekdays between 7 pm and 4 am, two weeks before reimbursements were offered and the mean number of cars two weeks after reimbursements were offered.\n",
    "\n",
    "I would use a one-tailed Z-test to determine the p-value of each hypothesis.\n",
    "\n",
    "If the p-value is less than 0.05 for BOTH tests I would reject the null hypotheses and recommend the reimbursement program continue, with the caveat that the study should be repeated in a year with more data.\n",
    "\n",
    "If the p-value is greater than 0.05 for BOTH tests I would fail to reject the null hypotheses and recommend that a different program be developed to increase partner driving between the two cities.\n",
    "\n",
    "If the p-value is mixed, so only one hypothesis has a p-value less than 0.05 I would recommend that the analysis is inconclusive and that further investigation is needed.\n",
    "\n"
   ]
  },
  {
   "cell_type": "markdown",
   "metadata": {},
   "source": [
    "## Part 3 ‑ Predictive modeling\n",
    "\n",
    "Ultimate is interested in predicting rider retention. To help explore this question, we have provided a sample dataset of a cohort of users who signed up for an Ultimate account in January 2014. The data was pulled several months later; we consider a user retained if they were “active” (i.e. took a trip) in the preceding 30 days.\n",
    "\n",
    "We would like you to use this data set to help understand what factors are the best predictors for retention, and offer suggestions to operationalize those insights to help Ultimate.\n",
    "\n",
    "The data is in the attached file ultimate_data_challenge.json.\n",
    "\n",
    "Perform any cleaning, exploratory analysis, and/or visualizations to use the provided data for this analysis (a few sentences/plots describing your approach will suffice).<br>\n",
    "\n",
    "1.What fraction of the observed users were retained?<br>\n",
    "2.Build a predictive model to help Ultimate determine whether or not a user will be active in their 6th month on the system. Discuss why you chose your approach, what alternatives you considered, and any concerns you have. How valid is your model? Include any key indicators of model performance.<br>\n",
    "3.Briefly discuss how Ultimate might leverage the insights gained from the model to improve its long term rider retention (again, a few sentences will suffice).\n",
    "\n",
    "Assumptions Made\n",
    "The date of when the data was pulled is not given, so I cannot tell if they had a trip in the 30 days before that date, nor is a user ID given. Thus, I will assume:\n",
    "That the most recent trip taken was the day the data was pulled\n",
    "Each row represents a summary of a unique user."
   ]
  },
  {
   "cell_type": "code",
   "execution_count": 15,
   "metadata": {},
   "outputs": [],
   "source": [
    "# load the json.file\n",
    "data=json.load(open(\"ultimate_data_challenge.json\"))"
   ]
  },
  {
   "cell_type": "code",
   "execution_count": 16,
   "metadata": {},
   "outputs": [],
   "source": [
    "#put data into dataframe\n",
    "user_data= pd.read_json(\"ultimate_data_challenge.json\")"
   ]
  },
  {
   "cell_type": "code",
   "execution_count": 17,
   "metadata": {},
   "outputs": [
    {
     "data": {
      "text/html": [
       "<div>\n",
       "<style scoped>\n",
       "    .dataframe tbody tr th:only-of-type {\n",
       "        vertical-align: middle;\n",
       "    }\n",
       "\n",
       "    .dataframe tbody tr th {\n",
       "        vertical-align: top;\n",
       "    }\n",
       "\n",
       "    .dataframe thead th {\n",
       "        text-align: right;\n",
       "    }\n",
       "</style>\n",
       "<table border=\"1\" class=\"dataframe\">\n",
       "  <thead>\n",
       "    <tr style=\"text-align: right;\">\n",
       "      <th></th>\n",
       "      <th>city</th>\n",
       "      <th>trips_in_first_30_days</th>\n",
       "      <th>signup_date</th>\n",
       "      <th>avg_rating_of_driver</th>\n",
       "      <th>avg_surge</th>\n",
       "      <th>last_trip_date</th>\n",
       "      <th>phone</th>\n",
       "      <th>surge_pct</th>\n",
       "      <th>ultimate_black_user</th>\n",
       "      <th>weekday_pct</th>\n",
       "      <th>avg_dist</th>\n",
       "      <th>avg_rating_by_driver</th>\n",
       "    </tr>\n",
       "  </thead>\n",
       "  <tbody>\n",
       "    <tr>\n",
       "      <th>0</th>\n",
       "      <td>King's Landing</td>\n",
       "      <td>4</td>\n",
       "      <td>2014-01-25</td>\n",
       "      <td>4.7</td>\n",
       "      <td>1.10</td>\n",
       "      <td>2014-06-17</td>\n",
       "      <td>iPhone</td>\n",
       "      <td>15.4</td>\n",
       "      <td>True</td>\n",
       "      <td>46.2</td>\n",
       "      <td>3.67</td>\n",
       "      <td>5.0</td>\n",
       "    </tr>\n",
       "    <tr>\n",
       "      <th>1</th>\n",
       "      <td>Astapor</td>\n",
       "      <td>0</td>\n",
       "      <td>2014-01-29</td>\n",
       "      <td>5.0</td>\n",
       "      <td>1.00</td>\n",
       "      <td>2014-05-05</td>\n",
       "      <td>Android</td>\n",
       "      <td>0.0</td>\n",
       "      <td>False</td>\n",
       "      <td>50.0</td>\n",
       "      <td>8.26</td>\n",
       "      <td>5.0</td>\n",
       "    </tr>\n",
       "    <tr>\n",
       "      <th>2</th>\n",
       "      <td>Astapor</td>\n",
       "      <td>3</td>\n",
       "      <td>2014-01-06</td>\n",
       "      <td>4.3</td>\n",
       "      <td>1.00</td>\n",
       "      <td>2014-01-07</td>\n",
       "      <td>iPhone</td>\n",
       "      <td>0.0</td>\n",
       "      <td>False</td>\n",
       "      <td>100.0</td>\n",
       "      <td>0.77</td>\n",
       "      <td>5.0</td>\n",
       "    </tr>\n",
       "    <tr>\n",
       "      <th>3</th>\n",
       "      <td>King's Landing</td>\n",
       "      <td>9</td>\n",
       "      <td>2014-01-10</td>\n",
       "      <td>4.6</td>\n",
       "      <td>1.14</td>\n",
       "      <td>2014-06-29</td>\n",
       "      <td>iPhone</td>\n",
       "      <td>20.0</td>\n",
       "      <td>True</td>\n",
       "      <td>80.0</td>\n",
       "      <td>2.36</td>\n",
       "      <td>4.9</td>\n",
       "    </tr>\n",
       "    <tr>\n",
       "      <th>4</th>\n",
       "      <td>Winterfell</td>\n",
       "      <td>14</td>\n",
       "      <td>2014-01-27</td>\n",
       "      <td>4.4</td>\n",
       "      <td>1.19</td>\n",
       "      <td>2014-03-15</td>\n",
       "      <td>Android</td>\n",
       "      <td>11.8</td>\n",
       "      <td>False</td>\n",
       "      <td>82.4</td>\n",
       "      <td>3.13</td>\n",
       "      <td>4.9</td>\n",
       "    </tr>\n",
       "    <tr>\n",
       "      <th>...</th>\n",
       "      <td>...</td>\n",
       "      <td>...</td>\n",
       "      <td>...</td>\n",
       "      <td>...</td>\n",
       "      <td>...</td>\n",
       "      <td>...</td>\n",
       "      <td>...</td>\n",
       "      <td>...</td>\n",
       "      <td>...</td>\n",
       "      <td>...</td>\n",
       "      <td>...</td>\n",
       "      <td>...</td>\n",
       "    </tr>\n",
       "    <tr>\n",
       "      <th>49995</th>\n",
       "      <td>King's Landing</td>\n",
       "      <td>0</td>\n",
       "      <td>2014-01-25</td>\n",
       "      <td>5.0</td>\n",
       "      <td>1.00</td>\n",
       "      <td>2014-06-05</td>\n",
       "      <td>iPhone</td>\n",
       "      <td>0.0</td>\n",
       "      <td>False</td>\n",
       "      <td>100.0</td>\n",
       "      <td>5.63</td>\n",
       "      <td>4.2</td>\n",
       "    </tr>\n",
       "    <tr>\n",
       "      <th>49996</th>\n",
       "      <td>Astapor</td>\n",
       "      <td>1</td>\n",
       "      <td>2014-01-24</td>\n",
       "      <td>NaN</td>\n",
       "      <td>1.00</td>\n",
       "      <td>2014-01-25</td>\n",
       "      <td>iPhone</td>\n",
       "      <td>0.0</td>\n",
       "      <td>False</td>\n",
       "      <td>0.0</td>\n",
       "      <td>0.00</td>\n",
       "      <td>4.0</td>\n",
       "    </tr>\n",
       "    <tr>\n",
       "      <th>49997</th>\n",
       "      <td>Winterfell</td>\n",
       "      <td>0</td>\n",
       "      <td>2014-01-31</td>\n",
       "      <td>5.0</td>\n",
       "      <td>1.00</td>\n",
       "      <td>2014-05-22</td>\n",
       "      <td>Android</td>\n",
       "      <td>0.0</td>\n",
       "      <td>True</td>\n",
       "      <td>100.0</td>\n",
       "      <td>3.86</td>\n",
       "      <td>5.0</td>\n",
       "    </tr>\n",
       "    <tr>\n",
       "      <th>49998</th>\n",
       "      <td>Astapor</td>\n",
       "      <td>2</td>\n",
       "      <td>2014-01-14</td>\n",
       "      <td>3.0</td>\n",
       "      <td>1.00</td>\n",
       "      <td>2014-01-15</td>\n",
       "      <td>iPhone</td>\n",
       "      <td>0.0</td>\n",
       "      <td>False</td>\n",
       "      <td>100.0</td>\n",
       "      <td>4.58</td>\n",
       "      <td>3.5</td>\n",
       "    </tr>\n",
       "    <tr>\n",
       "      <th>49999</th>\n",
       "      <td>Astapor</td>\n",
       "      <td>0</td>\n",
       "      <td>2014-01-18</td>\n",
       "      <td>NaN</td>\n",
       "      <td>1.00</td>\n",
       "      <td>2014-04-20</td>\n",
       "      <td>Android</td>\n",
       "      <td>0.0</td>\n",
       "      <td>False</td>\n",
       "      <td>0.0</td>\n",
       "      <td>3.49</td>\n",
       "      <td>5.0</td>\n",
       "    </tr>\n",
       "  </tbody>\n",
       "</table>\n",
       "<p>50000 rows × 12 columns</p>\n",
       "</div>"
      ],
      "text/plain": [
       "                 city  trips_in_first_30_days signup_date  \\\n",
       "0      King's Landing                       4  2014-01-25   \n",
       "1             Astapor                       0  2014-01-29   \n",
       "2             Astapor                       3  2014-01-06   \n",
       "3      King's Landing                       9  2014-01-10   \n",
       "4          Winterfell                      14  2014-01-27   \n",
       "...               ...                     ...         ...   \n",
       "49995  King's Landing                       0  2014-01-25   \n",
       "49996         Astapor                       1  2014-01-24   \n",
       "49997      Winterfell                       0  2014-01-31   \n",
       "49998         Astapor                       2  2014-01-14   \n",
       "49999         Astapor                       0  2014-01-18   \n",
       "\n",
       "       avg_rating_of_driver  avg_surge last_trip_date    phone  surge_pct  \\\n",
       "0                       4.7       1.10     2014-06-17   iPhone       15.4   \n",
       "1                       5.0       1.00     2014-05-05  Android        0.0   \n",
       "2                       4.3       1.00     2014-01-07   iPhone        0.0   \n",
       "3                       4.6       1.14     2014-06-29   iPhone       20.0   \n",
       "4                       4.4       1.19     2014-03-15  Android       11.8   \n",
       "...                     ...        ...            ...      ...        ...   \n",
       "49995                   5.0       1.00     2014-06-05   iPhone        0.0   \n",
       "49996                   NaN       1.00     2014-01-25   iPhone        0.0   \n",
       "49997                   5.0       1.00     2014-05-22  Android        0.0   \n",
       "49998                   3.0       1.00     2014-01-15   iPhone        0.0   \n",
       "49999                   NaN       1.00     2014-04-20  Android        0.0   \n",
       "\n",
       "       ultimate_black_user  weekday_pct  avg_dist  avg_rating_by_driver  \n",
       "0                     True         46.2      3.67                   5.0  \n",
       "1                    False         50.0      8.26                   5.0  \n",
       "2                    False        100.0      0.77                   5.0  \n",
       "3                     True         80.0      2.36                   4.9  \n",
       "4                    False         82.4      3.13                   4.9  \n",
       "...                    ...          ...       ...                   ...  \n",
       "49995                False        100.0      5.63                   4.2  \n",
       "49996                False          0.0      0.00                   4.0  \n",
       "49997                 True        100.0      3.86                   5.0  \n",
       "49998                False        100.0      4.58                   3.5  \n",
       "49999                False          0.0      3.49                   5.0  \n",
       "\n",
       "[50000 rows x 12 columns]"
      ]
     },
     "execution_count": 17,
     "metadata": {},
     "output_type": "execute_result"
    }
   ],
   "source": [
    "user_data"
   ]
  },
  {
   "cell_type": "code",
   "execution_count": 18,
   "metadata": {},
   "outputs": [],
   "source": [
    "#convert dates to datetime objects\n",
    "user_data['signup_date']= pd.to_datetime(user_data['signup_date'])\n",
    "user_data['last_trip_date']= pd.to_datetime(user_data['last_trip_date'])"
   ]
  },
  {
   "cell_type": "code",
   "execution_count": 19,
   "metadata": {},
   "outputs": [],
   "source": [
    "#find the date the data was pulled\n",
    "pull_date=user_data.last_trip_date.max()\n",
    "\n",
    "#determine 30 days previous to the pull day\n",
    "cut_off_day=pull_date-pd.Timedelta('30days')\n",
    "# determine active  cases 0= inactive and 1 = active\n",
    "user_data['active_status']=(user_data.last_trip_date>cut_off_day).astype('int')\n",
    "#add dummies to  categorical data \n",
    "user_data=pd.get_dummies(user_data ,columns=['city','phone'])"
   ]
  },
  {
   "cell_type": "code",
   "execution_count": 20,
   "metadata": {},
   "outputs": [],
   "source": [
    "# seperate get active and inactive users\n",
    "active_user= user_data[user_data.active_status == 1]\n",
    "inactive_user = user_data[user_data.active_status == 0]"
   ]
  },
  {
   "cell_type": "code",
   "execution_count": 21,
   "metadata": {},
   "outputs": [
    {
     "name": "stdout",
     "output_type": "stream",
     "text": [
      "36.62 percent of users were retained.\n"
     ]
    }
   ],
   "source": [
    "# percentage of retained user\n",
    "fraction = round((len(active_user.active_status)/len(user_data.active_status)) * 100, 2)\n",
    "print('{} percent of users were retained.'.format(fraction))\n"
   ]
  },
  {
   "cell_type": "code",
   "execution_count": 22,
   "metadata": {},
   "outputs": [],
   "source": [
    "# calculate the mean and standard deviation for each feature\n",
    "feature_columns = ['avg_dist', 'avg_rating_by_driver', 'avg_rating_of_driver', 'avg_surge',\n",
    " 'surge_pct', 'ultimate_black_user', 'weekday_pct', 'city_Astapor',\n",
    " \"city_King's Landing\", 'city_Winterfell', 'phone_Android','phone_iPhone']\n",
    "stats_dict = {}\n",
    "for col in feature_columns:\n",
    "    stats_dict[col] = [active_user[col].mean(), active_user[col].std(),\n",
    "                       inactive_user[col].mean(),inactive_user[col].std()]\n",
    "\n"
   ]
  },
  {
   "cell_type": "code",
   "execution_count": 23,
   "metadata": {},
   "outputs": [],
   "source": [
    "# create a dataframe of the statistics\n",
    "stats_df = pd.DataFrame.from_dict(stats_dict, orient='index').rename(columns = {0:'active_mean', 1:'active_std', \n",
    "                                                                                2:'inactive_mean', 3:'inactive_std'})"
   ]
  },
  {
   "cell_type": "code",
   "execution_count": 24,
   "metadata": {},
   "outputs": [
    {
     "data": {
      "text/html": [
       "<div>\n",
       "<style scoped>\n",
       "    .dataframe tbody tr th:only-of-type {\n",
       "        vertical-align: middle;\n",
       "    }\n",
       "\n",
       "    .dataframe tbody tr th {\n",
       "        vertical-align: top;\n",
       "    }\n",
       "\n",
       "    .dataframe thead th {\n",
       "        text-align: right;\n",
       "    }\n",
       "</style>\n",
       "<table border=\"1\" class=\"dataframe\">\n",
       "  <thead>\n",
       "    <tr style=\"text-align: right;\">\n",
       "      <th></th>\n",
       "      <th>active_mean</th>\n",
       "      <th>active_std</th>\n",
       "      <th>inactive_mean</th>\n",
       "      <th>inactive_std</th>\n",
       "    </tr>\n",
       "  </thead>\n",
       "  <tbody>\n",
       "    <tr>\n",
       "      <th>avg_dist</th>\n",
       "      <td>5.118977</td>\n",
       "      <td>4.627946</td>\n",
       "      <td>6.188478</td>\n",
       "      <td>6.213027</td>\n",
       "    </tr>\n",
       "    <tr>\n",
       "      <th>avg_rating_by_driver</th>\n",
       "      <td>4.763121</td>\n",
       "      <td>0.324566</td>\n",
       "      <td>4.786876</td>\n",
       "      <td>0.503869</td>\n",
       "    </tr>\n",
       "    <tr>\n",
       "      <th>avg_rating_of_driver</th>\n",
       "      <td>4.593364</td>\n",
       "      <td>0.538166</td>\n",
       "      <td>4.607018</td>\n",
       "      <td>0.664816</td>\n",
       "    </tr>\n",
       "    <tr>\n",
       "      <th>avg_surge</th>\n",
       "      <td>1.073720</td>\n",
       "      <td>0.163183</td>\n",
       "      <td>1.075367</td>\n",
       "      <td>0.250219</td>\n",
       "    </tr>\n",
       "    <tr>\n",
       "      <th>surge_pct</th>\n",
       "      <td>9.128165</td>\n",
       "      <td>15.489344</td>\n",
       "      <td>8.688548</td>\n",
       "      <td>22.132211</td>\n",
       "    </tr>\n",
       "    <tr>\n",
       "      <th>ultimate_black_user</th>\n",
       "      <td>0.511141</td>\n",
       "      <td>0.499890</td>\n",
       "      <td>0.299621</td>\n",
       "      <td>0.458099</td>\n",
       "    </tr>\n",
       "    <tr>\n",
       "      <th>weekday_pct</th>\n",
       "      <td>62.214604</td>\n",
       "      <td>29.068319</td>\n",
       "      <td>60.181597</td>\n",
       "      <td>40.985698</td>\n",
       "    </tr>\n",
       "    <tr>\n",
       "      <th>city_Astapor</th>\n",
       "      <td>0.219661</td>\n",
       "      <td>0.414029</td>\n",
       "      <td>0.394825</td>\n",
       "      <td>0.488821</td>\n",
       "    </tr>\n",
       "    <tr>\n",
       "      <th>city_King's Landing</th>\n",
       "      <td>0.344457</td>\n",
       "      <td>0.475204</td>\n",
       "      <td>0.120637</td>\n",
       "      <td>0.325711</td>\n",
       "    </tr>\n",
       "    <tr>\n",
       "      <th>city_Winterfell</th>\n",
       "      <td>0.435882</td>\n",
       "      <td>0.495885</td>\n",
       "      <td>0.484538</td>\n",
       "      <td>0.499769</td>\n",
       "    </tr>\n",
       "    <tr>\n",
       "      <th>phone_Android</th>\n",
       "      <td>0.160677</td>\n",
       "      <td>0.367243</td>\n",
       "      <td>0.381193</td>\n",
       "      <td>0.485687</td>\n",
       "    </tr>\n",
       "    <tr>\n",
       "      <th>phone_iPhone</th>\n",
       "      <td>0.832223</td>\n",
       "      <td>0.373678</td>\n",
       "      <td>0.610413</td>\n",
       "      <td>0.487664</td>\n",
       "    </tr>\n",
       "  </tbody>\n",
       "</table>\n",
       "</div>"
      ],
      "text/plain": [
       "                      active_mean  active_std  inactive_mean  inactive_std\n",
       "avg_dist                 5.118977    4.627946       6.188478      6.213027\n",
       "avg_rating_by_driver     4.763121    0.324566       4.786876      0.503869\n",
       "avg_rating_of_driver     4.593364    0.538166       4.607018      0.664816\n",
       "avg_surge                1.073720    0.163183       1.075367      0.250219\n",
       "surge_pct                9.128165   15.489344       8.688548     22.132211\n",
       "ultimate_black_user      0.511141    0.499890       0.299621      0.458099\n",
       "weekday_pct             62.214604   29.068319      60.181597     40.985698\n",
       "city_Astapor             0.219661    0.414029       0.394825      0.488821\n",
       "city_King's Landing      0.344457    0.475204       0.120637      0.325711\n",
       "city_Winterfell          0.435882    0.495885       0.484538      0.499769\n",
       "phone_Android            0.160677    0.367243       0.381193      0.485687\n",
       "phone_iPhone             0.832223    0.373678       0.610413      0.487664"
      ]
     },
     "execution_count": 24,
     "metadata": {},
     "output_type": "execute_result"
    }
   ],
   "source": [
    "stats_df"
   ]
  },
  {
   "cell_type": "code",
   "execution_count": 25,
   "metadata": {},
   "outputs": [
    {
     "data": {
      "text/plain": [
       "Text(0.5, 1.0, 'Average of Features for Active and Inactive Users')"
      ]
     },
     "execution_count": 25,
     "metadata": {},
     "output_type": "execute_result"
    },
    {
     "data": {
      "image/png": "[encoded data removed]",
      "text/plain": [
       "<Figure size 1080x432 with 1 Axes>"
      ]
     },
     "metadata": {
      "needs_background": "light"
     },
     "output_type": "display_data"
    }
   ],
   "source": [
    "# visualize the statistics\n",
    "stats_df[['active_mean', 'inactive_mean']].plot(kind = 'bar', yerr=stats_df[['active_std','inactive_std']], figsize = (15,6), fontsize = 15)\n",
    "plt.xlabel('Features',fontsize = 20)\n",
    "plt.ylabel('Mean', fontsize = 20)\n",
    "plt.title('Average of Features for Active and Inactive Users', fontsize = 20)"
   ]
  },
  {
   "cell_type": "markdown",
   "metadata": {},
   "source": [
    "The bar graph of the statistcs shows there is not a pronounce difference between the average of the features for active and inactive users. It also shows the weekday_pct feature has a much larger scale than the others, so the data may need to be normalized."
   ]
  },
  {
   "cell_type": "markdown",
   "metadata": {},
   "source": [
    "Build a predictive model to help Ultimate determine whether or not a user will be active in their 6th month on the system. Discuss why you chose your approach, what alternatives you considered, and any concerns you have. How valid is your model? Include any key indicators of model performance."
   ]
  },
  {
   "cell_type": "markdown",
   "metadata": {},
   "source": [
    "This is a binary classification problem with both numerical and categorical data with 50,000 data points. XGBoost is appropriate for the data, fast, and memory efficient. Other models that would be appropriate for this data would be random forests and logistic regression. One of the drawbacks of using a tree-based model is interpretation is not as straightforward as it is with linear models."
   ]
  },
  {
   "cell_type": "code",
   "execution_count": 26,
   "metadata": {},
   "outputs": [
    {
     "data": {
      "text/html": [
       "<div>\n",
       "<style scoped>\n",
       "    .dataframe tbody tr th:only-of-type {\n",
       "        vertical-align: middle;\n",
       "    }\n",
       "\n",
       "    .dataframe tbody tr th {\n",
       "        vertical-align: top;\n",
       "    }\n",
       "\n",
       "    .dataframe thead th {\n",
       "        text-align: right;\n",
       "    }\n",
       "</style>\n",
       "<table border=\"1\" class=\"dataframe\">\n",
       "  <thead>\n",
       "    <tr style=\"text-align: right;\">\n",
       "      <th></th>\n",
       "      <th>trips_in_first_30_days</th>\n",
       "      <th>signup_date</th>\n",
       "      <th>avg_rating_of_driver</th>\n",
       "      <th>avg_surge</th>\n",
       "      <th>last_trip_date</th>\n",
       "      <th>surge_pct</th>\n",
       "      <th>ultimate_black_user</th>\n",
       "      <th>weekday_pct</th>\n",
       "      <th>avg_dist</th>\n",
       "      <th>avg_rating_by_driver</th>\n",
       "      <th>active_status</th>\n",
       "      <th>city_Astapor</th>\n",
       "      <th>city_King's Landing</th>\n",
       "      <th>city_Winterfell</th>\n",
       "      <th>phone_Android</th>\n",
       "      <th>phone_iPhone</th>\n",
       "    </tr>\n",
       "  </thead>\n",
       "  <tbody>\n",
       "    <tr>\n",
       "      <th>0</th>\n",
       "      <td>4</td>\n",
       "      <td>2014-01-25</td>\n",
       "      <td>4.7</td>\n",
       "      <td>1.10</td>\n",
       "      <td>2014-06-17</td>\n",
       "      <td>15.4</td>\n",
       "      <td>True</td>\n",
       "      <td>46.2</td>\n",
       "      <td>3.67</td>\n",
       "      <td>5.0</td>\n",
       "      <td>1</td>\n",
       "      <td>0</td>\n",
       "      <td>1</td>\n",
       "      <td>0</td>\n",
       "      <td>0</td>\n",
       "      <td>1</td>\n",
       "    </tr>\n",
       "    <tr>\n",
       "      <th>1</th>\n",
       "      <td>0</td>\n",
       "      <td>2014-01-29</td>\n",
       "      <td>5.0</td>\n",
       "      <td>1.00</td>\n",
       "      <td>2014-05-05</td>\n",
       "      <td>0.0</td>\n",
       "      <td>False</td>\n",
       "      <td>50.0</td>\n",
       "      <td>8.26</td>\n",
       "      <td>5.0</td>\n",
       "      <td>0</td>\n",
       "      <td>1</td>\n",
       "      <td>0</td>\n",
       "      <td>0</td>\n",
       "      <td>1</td>\n",
       "      <td>0</td>\n",
       "    </tr>\n",
       "    <tr>\n",
       "      <th>2</th>\n",
       "      <td>3</td>\n",
       "      <td>2014-01-06</td>\n",
       "      <td>4.3</td>\n",
       "      <td>1.00</td>\n",
       "      <td>2014-01-07</td>\n",
       "      <td>0.0</td>\n",
       "      <td>False</td>\n",
       "      <td>100.0</td>\n",
       "      <td>0.77</td>\n",
       "      <td>5.0</td>\n",
       "      <td>0</td>\n",
       "      <td>1</td>\n",
       "      <td>0</td>\n",
       "      <td>0</td>\n",
       "      <td>0</td>\n",
       "      <td>1</td>\n",
       "    </tr>\n",
       "    <tr>\n",
       "      <th>3</th>\n",
       "      <td>9</td>\n",
       "      <td>2014-01-10</td>\n",
       "      <td>4.6</td>\n",
       "      <td>1.14</td>\n",
       "      <td>2014-06-29</td>\n",
       "      <td>20.0</td>\n",
       "      <td>True</td>\n",
       "      <td>80.0</td>\n",
       "      <td>2.36</td>\n",
       "      <td>4.9</td>\n",
       "      <td>1</td>\n",
       "      <td>0</td>\n",
       "      <td>1</td>\n",
       "      <td>0</td>\n",
       "      <td>0</td>\n",
       "      <td>1</td>\n",
       "    </tr>\n",
       "    <tr>\n",
       "      <th>4</th>\n",
       "      <td>14</td>\n",
       "      <td>2014-01-27</td>\n",
       "      <td>4.4</td>\n",
       "      <td>1.19</td>\n",
       "      <td>2014-03-15</td>\n",
       "      <td>11.8</td>\n",
       "      <td>False</td>\n",
       "      <td>82.4</td>\n",
       "      <td>3.13</td>\n",
       "      <td>4.9</td>\n",
       "      <td>0</td>\n",
       "      <td>0</td>\n",
       "      <td>0</td>\n",
       "      <td>1</td>\n",
       "      <td>1</td>\n",
       "      <td>0</td>\n",
       "    </tr>\n",
       "    <tr>\n",
       "      <th>...</th>\n",
       "      <td>...</td>\n",
       "      <td>...</td>\n",
       "      <td>...</td>\n",
       "      <td>...</td>\n",
       "      <td>...</td>\n",
       "      <td>...</td>\n",
       "      <td>...</td>\n",
       "      <td>...</td>\n",
       "      <td>...</td>\n",
       "      <td>...</td>\n",
       "      <td>...</td>\n",
       "      <td>...</td>\n",
       "      <td>...</td>\n",
       "      <td>...</td>\n",
       "      <td>...</td>\n",
       "      <td>...</td>\n",
       "    </tr>\n",
       "    <tr>\n",
       "      <th>49995</th>\n",
       "      <td>0</td>\n",
       "      <td>2014-01-25</td>\n",
       "      <td>5.0</td>\n",
       "      <td>1.00</td>\n",
       "      <td>2014-06-05</td>\n",
       "      <td>0.0</td>\n",
       "      <td>False</td>\n",
       "      <td>100.0</td>\n",
       "      <td>5.63</td>\n",
       "      <td>4.2</td>\n",
       "      <td>1</td>\n",
       "      <td>0</td>\n",
       "      <td>1</td>\n",
       "      <td>0</td>\n",
       "      <td>0</td>\n",
       "      <td>1</td>\n",
       "    </tr>\n",
       "    <tr>\n",
       "      <th>49996</th>\n",
       "      <td>1</td>\n",
       "      <td>2014-01-24</td>\n",
       "      <td>NaN</td>\n",
       "      <td>1.00</td>\n",
       "      <td>2014-01-25</td>\n",
       "      <td>0.0</td>\n",
       "      <td>False</td>\n",
       "      <td>0.0</td>\n",
       "      <td>0.00</td>\n",
       "      <td>4.0</td>\n",
       "      <td>0</td>\n",
       "      <td>1</td>\n",
       "      <td>0</td>\n",
       "      <td>0</td>\n",
       "      <td>0</td>\n",
       "      <td>1</td>\n",
       "    </tr>\n",
       "    <tr>\n",
       "      <th>49997</th>\n",
       "      <td>0</td>\n",
       "      <td>2014-01-31</td>\n",
       "      <td>5.0</td>\n",
       "      <td>1.00</td>\n",
       "      <td>2014-05-22</td>\n",
       "      <td>0.0</td>\n",
       "      <td>True</td>\n",
       "      <td>100.0</td>\n",
       "      <td>3.86</td>\n",
       "      <td>5.0</td>\n",
       "      <td>0</td>\n",
       "      <td>0</td>\n",
       "      <td>0</td>\n",
       "      <td>1</td>\n",
       "      <td>1</td>\n",
       "      <td>0</td>\n",
       "    </tr>\n",
       "    <tr>\n",
       "      <th>49998</th>\n",
       "      <td>2</td>\n",
       "      <td>2014-01-14</td>\n",
       "      <td>3.0</td>\n",
       "      <td>1.00</td>\n",
       "      <td>2014-01-15</td>\n",
       "      <td>0.0</td>\n",
       "      <td>False</td>\n",
       "      <td>100.0</td>\n",
       "      <td>4.58</td>\n",
       "      <td>3.5</td>\n",
       "      <td>0</td>\n",
       "      <td>1</td>\n",
       "      <td>0</td>\n",
       "      <td>0</td>\n",
       "      <td>0</td>\n",
       "      <td>1</td>\n",
       "    </tr>\n",
       "    <tr>\n",
       "      <th>49999</th>\n",
       "      <td>0</td>\n",
       "      <td>2014-01-18</td>\n",
       "      <td>NaN</td>\n",
       "      <td>1.00</td>\n",
       "      <td>2014-04-20</td>\n",
       "      <td>0.0</td>\n",
       "      <td>False</td>\n",
       "      <td>0.0</td>\n",
       "      <td>3.49</td>\n",
       "      <td>5.0</td>\n",
       "      <td>0</td>\n",
       "      <td>1</td>\n",
       "      <td>0</td>\n",
       "      <td>0</td>\n",
       "      <td>1</td>\n",
       "      <td>0</td>\n",
       "    </tr>\n",
       "  </tbody>\n",
       "</table>\n",
       "<p>50000 rows × 16 columns</p>\n",
       "</div>"
      ],
      "text/plain": [
       "       trips_in_first_30_days signup_date  avg_rating_of_driver  avg_surge  \\\n",
       "0                           4  2014-01-25                   4.7       1.10   \n",
       "1                           0  2014-01-29                   5.0       1.00   \n",
       "2                           3  2014-01-06                   4.3       1.00   \n",
       "3                           9  2014-01-10                   4.6       1.14   \n",
       "4                          14  2014-01-27                   4.4       1.19   \n",
       "...                       ...         ...                   ...        ...   \n",
       "49995                       0  2014-01-25                   5.0       1.00   \n",
       "49996                       1  2014-01-24                   NaN       1.00   \n",
       "49997                       0  2014-01-31                   5.0       1.00   \n",
       "49998                       2  2014-01-14                   3.0       1.00   \n",
       "49999                       0  2014-01-18                   NaN       1.00   \n",
       "\n",
       "      last_trip_date  surge_pct  ultimate_black_user  weekday_pct  avg_dist  \\\n",
       "0         2014-06-17       15.4                 True         46.2      3.67   \n",
       "1         2014-05-05        0.0                False         50.0      8.26   \n",
       "2         2014-01-07        0.0                False        100.0      0.77   \n",
       "3         2014-06-29       20.0                 True         80.0      2.36   \n",
       "4         2014-03-15       11.8                False         82.4      3.13   \n",
       "...              ...        ...                  ...          ...       ...   \n",
       "49995     2014-06-05        0.0                False        100.0      5.63   \n",
       "49996     2014-01-25        0.0                False          0.0      0.00   \n",
       "49997     2014-05-22        0.0                 True        100.0      3.86   \n",
       "49998     2014-01-15        0.0                False        100.0      4.58   \n",
       "49999     2014-04-20        0.0                False          0.0      3.49   \n",
       "\n",
       "       avg_rating_by_driver  active_status  city_Astapor  city_King's Landing  \\\n",
       "0                       5.0              1             0                    1   \n",
       "1                       5.0              0             1                    0   \n",
       "2                       5.0              0             1                    0   \n",
       "3                       4.9              1             0                    1   \n",
       "4                       4.9              0             0                    0   \n",
       "...                     ...            ...           ...                  ...   \n",
       "49995                   4.2              1             0                    1   \n",
       "49996                   4.0              0             1                    0   \n",
       "49997                   5.0              0             0                    0   \n",
       "49998                   3.5              0             1                    0   \n",
       "49999                   5.0              0             1                    0   \n",
       "\n",
       "       city_Winterfell  phone_Android  phone_iPhone  \n",
       "0                    0              0             1  \n",
       "1                    0              1             0  \n",
       "2                    0              0             1  \n",
       "3                    0              0             1  \n",
       "4                    1              1             0  \n",
       "...                ...            ...           ...  \n",
       "49995                0              0             1  \n",
       "49996                0              0             1  \n",
       "49997                1              1             0  \n",
       "49998                0              0             1  \n",
       "49999                0              1             0  \n",
       "\n",
       "[50000 rows x 16 columns]"
      ]
     },
     "execution_count": 26,
     "metadata": {},
     "output_type": "execute_result"
    }
   ],
   "source": [
    "user_data"
   ]
  },
  {
   "cell_type": "markdown",
   "metadata": {},
   "source": [
    "## Optimization of XGBoost Classifer Model\n",
    "\n",
    "1.split data into training and test sets <br>\n",
    "2.optimize hyperparameters using the training set and random crossfold validation<br>\n",
    "3.validate using an unoptimized model AND the test set<br>\n",
    "4.train optimized model using the entire feature set<br>"
   ]
  },
  {
   "cell_type": "code",
   "execution_count": 27,
   "metadata": {},
   "outputs": [],
   "source": [
    "#define features and target\n",
    "X= user_data[feature_columns]\n",
    "y=user_data.active_status\n",
    "# split traun and test data\n",
    "X_train,X_test,y_train,y_test =train_test_split(X,y ,test_size=0.3,random_state=123)"
   ]
  },
  {
   "cell_type": "markdown",
   "metadata": {},
   "source": [
    "## Hyperparameter optimization"
   ]
  },
  {
   "cell_type": "code",
   "execution_count": 28,
   "metadata": {},
   "outputs": [],
   "source": [
    "#dictionary of parameters to optimize, and the range of optimization values\n",
    "parameters ={\n",
    "    'max_delta_step':[0,0.05],\n",
    "    'scale_pos_weight':[0.95,0.9],\n",
    "    'subsample':[1,0.8],\n",
    "    'learning_rate':[0.25,0.2,0.1],\n",
    "    'min_child_weight':[0,1,2],\n",
    "    'gamma':[1,2,3]\n",
    "}"
   ]
  },
  {
   "cell_type": "code",
   "execution_count": 30,
   "metadata": {},
   "outputs": [
    {
     "data": {
      "text/plain": [
       "GridSearchCV(cv=3,\n",
       "             estimator=XGBClassifier(base_score=None, booster=None,\n",
       "                                     colsample_bylevel=None,\n",
       "                                     colsample_bynode=None,\n",
       "                                     colsample_bytree=None, gamma=None,\n",
       "                                     gpu_id=None, importance_type='gain',\n",
       "                                     interaction_constraints=None,\n",
       "                                     learning_rate=None, max_delta_step=None,\n",
       "                                     max_depth=8, min_child_weight=None,\n",
       "                                     missing=nan, monotone_constraints=None,\n",
       "                                     n_estimators=10, n_jobs=None,\n",
       "                                     num_parallel_tree=None, random_state=42,\n",
       "                                     reg_alpha=None, reg_lambda=None,\n",
       "                                     scale_pos_weight=None, subsample=None,\n",
       "                                     tree_method=None, validate_parameters=None,\n",
       "                                     verbosity=None),\n",
       "             param_grid={'gamma': [1, 2, 3], 'learning_rate': [0.25, 0.2, 0.1],\n",
       "                         'max_delta_step': [0, 0.05],\n",
       "                         'min_child_weight': [0, 1, 2],\n",
       "                         'scale_pos_weight': [0.95, 0.9],\n",
       "                         'subsample': [1, 0.8]},\n",
       "             scoring='accuracy')"
      ]
     },
     "execution_count": 30,
     "metadata": {},
     "output_type": "execute_result"
    }
   ],
   "source": [
    "#instantiate XGBOSST classifier\n",
    "xg_clf = XGBClassifier(objective ='binary:logistic',random_state =42,n_estimators =10,max_depth=8)\n",
    "# RandomSearch\n",
    "grid_search = GridSearchCV(param_grid= parameters, estimator = xg_clf, cv=3, scoring='accuracy')\n",
    "grid_search.fit(X_train,y_train)\n"
   ]
  },
  {
   "cell_type": "code",
   "execution_count": 31,
   "metadata": {},
   "outputs": [
    {
     "name": "stdout",
     "output_type": "stream",
     "text": [
      "{'gamma': 3, 'learning_rate': 0.25, 'max_delta_step': 0, 'min_child_weight': 1, 'scale_pos_weight': 0.95, 'subsample': 0.8}\n",
      "0.7833142878095526\n"
     ]
    }
   ],
   "source": [
    "# Print best parameters and results\n",
    "print(grid_search.best_params_)\n",
    "print(grid_search.best_score_)"
   ]
  },
  {
   "cell_type": "code",
   "execution_count": 34,
   "metadata": {},
   "outputs": [],
   "source": [
    "# optimized parameters\n",
    "\n",
    "optimized_parameters = {'objective':'binary:logistic',\n",
    "                        'n_estimators': 10,\n",
    "                        'random_state': 42,\n",
    "                        'subsample':0.8, \n",
    "                        'scale_pos_weight': 0.95, \n",
    "                        'min_child_weight': 1, \n",
    "                        'max_depth': 8, \n",
    "                        'max_delta_step': 0, \n",
    "                        'learning_rate': 0.25, \n",
    "                        'gamma': 3\n",
    "                       }"
   ]
  },
  {
   "cell_type": "code",
   "execution_count": 35,
   "metadata": {},
   "outputs": [
    {
     "data": {
      "text/plain": [
       "XGBClassifier(base_score=0.5, booster='gbtree', colsample_bylevel=1,\n",
       "              colsample_bynode=1, colsample_bytree=1, gamma=3, gpu_id=-1,\n",
       "              importance_type='gain', interaction_constraints='',\n",
       "              learning_rate=0.25, max_delta_step=0, max_depth=8,\n",
       "              min_child_weight=1, missing=nan, monotone_constraints='()',\n",
       "              n_estimators=10, n_jobs=0, num_parallel_tree=1, random_state=42,\n",
       "              reg_alpha=0, reg_lambda=1, scale_pos_weight=0.95, subsample=0.8,\n",
       "              tree_method='exact', validate_parameters=1, verbosity=None)"
      ]
     },
     "execution_count": 35,
     "metadata": {},
     "output_type": "execute_result"
    }
   ],
   "source": [
    "# instantiate classifier\n",
    "xg_clf_opt = XGBClassifier(**optimized_parameters)\n",
    "xg_clf_opt.fit(X_train, y_train)"
   ]
  },
  {
   "cell_type": "code",
   "execution_count": 36,
   "metadata": {},
   "outputs": [
    {
     "name": "stdout",
     "output_type": "stream",
     "text": [
      "The resulting accuracy of the optimized classifier is 0.8057.\n"
     ]
    }
   ],
   "source": [
    "# predict the labels\n",
    "y_opt_pred = xg_clf_opt.predict(X_train)\n",
    "# score model\n",
    "score = accuracy_score(y_train, y_opt_pred)\n",
    "# print accuracy\n",
    "print(\"The resulting accuracy of the optimized classifier is {}.\".format(round(score,4)))"
   ]
  },
  {
   "cell_type": "code",
   "execution_count": 37,
   "metadata": {},
   "outputs": [
    {
     "name": "stdout",
     "output_type": "stream",
     "text": [
      "The resulting accuracy of the optimized classifier for the test set is 0.7863.\n"
     ]
    }
   ],
   "source": [
    "# predict the labels\n",
    "y_opt_test = xg_clf_opt.predict(X_test)\n",
    "# score model\n",
    "test_score = accuracy_score(y_test, y_opt_test)\n",
    "# print accuracy\n",
    "print(\"The resulting accuracy of the optimized classifier for the test set is {}.\".format(round(test_score,4)))"
   ]
  },
  {
   "cell_type": "code",
   "execution_count": 38,
   "metadata": {},
   "outputs": [
    {
     "data": {
      "text/plain": [
       "<AxesSubplot:title={'center':'Feature importance'}, xlabel='F score', ylabel='Features'>"
      ]
     },
     "execution_count": 38,
     "metadata": {},
     "output_type": "execute_result"
    },
    {
     "data": {
      "image/png": "[encoded data removed]",
      "text/plain": [
       "<Figure size 432x288 with 1 Axes>"
      ]
     },
     "metadata": {
      "needs_background": "light"
     },
     "output_type": "display_data"
    }
   ],
   "source": [
    "plot_importance(xg_clf_opt)"
   ]
  },
  {
   "cell_type": "markdown",
   "metadata": {},
   "source": [
    "The factors that most heavily influence rider retention are the average distance in miles per trip taken in the first 30 days after signup and the percent of the user's trips occuring during a weekday."
   ]
  },
  {
   "cell_type": "code",
   "execution_count": null,
   "metadata": {},
   "outputs": [],
   "source": []
  }
 ],
 "metadata": {
  "kernelspec": {
   "display_name": "Python 3",
   "language": "python",
   "name": "python3"
  },
  "language_info": {
   "codemirror_mode": {
    "name": "ipython",
    "version": 3
   },
   "file_extension": ".py",
   "mimetype": "text/x-python",
   "name": "python",
   "nbconvert_exporter": "python",
   "pygments_lexer": "ipython3",
   "version": "3.7.4"
  }
 },
 "nbformat": 4,
 "nbformat_minor": 4
}
